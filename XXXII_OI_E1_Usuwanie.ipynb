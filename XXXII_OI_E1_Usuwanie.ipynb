{
  "nbformat": 4,
  "nbformat_minor": 0,
  "metadata": {
    "colab": {
      "provenance": [],
      "authorship_tag": "ABX9TyOxL4jMCS2LOzPWwT53PuI3",
      "include_colab_link": true
    },
    "kernelspec": {
      "name": "python3",
      "display_name": "Python 3"
    },
    "language_info": {
      "name": "python"
    }
  },
  "cells": [
    {
      "cell_type": "markdown",
      "metadata": {
        "id": "view-in-github",
        "colab_type": "text"
      },
      "source": [
        "<a href=\"https://colab.research.google.com/github/ZERO-S-PLACE/OI-Exercises/blob/main/XXXII_OI_E1_Usuwanie.ipynb\" target=\"_parent\"><img src=\"https://colab.research.google.com/assets/colab-badge.svg\" alt=\"Open In Colab\"/></a>"
      ]
    },
    {
      "cell_type": "code",
      "execution_count": 12,
      "metadata": {
        "colab": {
          "base_uri": "https://localhost:8080/"
        },
        "id": "_3uSzuv9V8GZ",
        "outputId": "59b344b4-9003-4215-9ae1-cdae3608e98a"
      },
      "outputs": [
        {
          "output_type": "stream",
          "name": "stdout",
          "text": [
            "32\n",
            "1000000000000000000\n",
            "999999999999999968\n"
          ]
        }
      ],
      "source": [
        "inputRow=input()\n",
        "numbers_list = list(map(int, inputRow.split()))\n",
        "a=numbers_list[0]\n",
        "b=numbers_list[1]\n",
        "length=b-a+1\n",
        "if length%2==0:\n",
        "  if length%4==0:print(length)\n",
        "  else:print(length-2)\n",
        "else: print(length-1)"
      ]
    }
  ]
}