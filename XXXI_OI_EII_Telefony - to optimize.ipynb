{
  "nbformat": 4,
  "nbformat_minor": 0,
  "metadata": {
    "colab": {
      "provenance": [],
      "authorship_tag": "ABX9TyMlevxKsjXYV/snnKbyYfXV",
      "include_colab_link": true
    },
    "kernelspec": {
      "name": "python3",
      "display_name": "Python 3"
    },
    "language_info": {
      "name": "python"
    }
  },
  "cells": [
    {
      "cell_type": "markdown",
      "metadata": {
        "id": "view-in-github",
        "colab_type": "text"
      },
      "source": [
        "<a href=\"https://colab.research.google.com/github/ZERO-S-PLACE/OI-Exercises/blob/main/XXXI_OI_EII_Telefony%20-%20to%20optimize.ipynb\" target=\"_parent\"><img src=\"https://colab.research.google.com/assets/colab-badge.svg\" alt=\"Open In Colab\"/></a>"
      ]
    },
    {
      "cell_type": "code",
      "execution_count": 62,
      "metadata": {
        "colab": {
          "base_uri": "https://localhost:8080/"
        },
        "id": "Gb7uGo_Fef-Q",
        "outputId": "cac53828-0249-43ea-c854-d538b64f716f"
      },
      "outputs": [
        {
          "output_type": "stream",
          "name": "stdout",
          "text": [
            "7\n",
            "1 2 2 3 3 3 4 4 4 4 5 5 5 5 5 6 6 6 6 6 6 7 7 7 7 7 7 7 \n",
            "2 5\n",
            "3 7\n",
            "1 2\n",
            "3 6\n",
            "2 4\n",
            "1 3\n"
          ]
        }
      ],
      "source": [
        "\n",
        "#TEST_DATA\n",
        "\n",
        "import sys\n",
        "from io import StringIO\n",
        "\n",
        "data = \"\"\"28\n",
        "5 2 3 4 5 6\n",
        "11 1 3 7 8 9 10 11 12 13 14 15\n",
        "11 1 2 7 8 9 10 11 12 13 14 15\n",
        "16 1 5 6 16 17 18 19 20 21 22 23 24 25 26 27 28\n",
        "16 1 4 6 16 17 18 19 20 21 22 23 24 25 26 27 28\n",
        "16 1 4 5 16 17 18 19 20 21 22 23 24 25 26 27 28\n",
        "5 2 3 8 9 10\n",
        "5 2 3 7 9 10\n",
        "5 2 3 7 8 10\n",
        "5 2 3 7 8 9\n",
        "6 2 3 12 13 14 15\n",
        "6 2 3 11 13 14 15\n",
        "6 2 3 11 12 14 15\n",
        "6 2 3 11 12 13 15\n",
        "6 2 3 11 12 13 14\n",
        "8 4 5 6 17 18 19 20 21\n",
        "8 4 5 6 16 18 19 20 21\n",
        "8 4 5 6 16 17 19 20 21\n",
        "8 4 5 6 16 17 18 20 21\n",
        "8 4 5 6 16 17 18 19 21\n",
        "8 4 5 6 16 17 18 19 20\n",
        "9 4 5 6 23 24 25 26 27 28\n",
        "9 4 5 6 22 24 25 26 27 28\n",
        "9 4 5 6 22 23 25 26 27 28\n",
        "9 4 5 6 22 23 24 26 27 28\n",
        "9 4 5 6 22 23 24 25 27 28\n",
        "9 4 5 6 22 23 24 25 26 28\n",
        "9 4 5 6 22 23 24 25 26 27\n",
        "\"\"\"\n",
        "\n",
        "input_lines = data.split(\"\\n\")\n",
        "\n",
        "\n",
        "def input():\n",
        "    return input_lines.pop(0)\n",
        "\n",
        "#Algorithm - correct but little bit too slow\n",
        "\n",
        "citizensCount=int(input())\n",
        "townCitizens=[]\n",
        "townContacts=[]\n",
        "ctz_towns='' #second line of output\n",
        "\n",
        "for i in range(citizensCount): #i - citizen number\n",
        "  phoneNumbers=set(map(int,input().split()[1:]))#skipped first number which is count\n",
        "  phoneNumbers.add(i+1) # citizen doesn't have himself in contacts\n",
        "  added=False\n",
        "  for j in range(len(townContacts)): # if there are same contact , add citizen to that city\n",
        "    if townContacts[j]==phoneNumbers:\n",
        "      townCitizens[j].add(i+1)\n",
        "      ctz_towns=ctz_towns+str(j+1)+' '\n",
        "      added=True\n",
        "      break\n",
        "  if not added:\n",
        "    townContacts.append(phoneNumbers)\n",
        "    townCitizens.append({i+1})\n",
        "    ctz_towns=ctz_towns+str(len(townCitizens))+' '\n",
        "\n",
        "if len(townCitizens)==1: #if there is only two ore one towns , different algorithm\n",
        "  if len(townCitizens[0])==1:\n",
        "    print(1)\n",
        "    print(1)\n",
        "  else:\n",
        "    print(2)\n",
        "    print('2'+ctz_towns[1:])\n",
        "    print('1 2')\n",
        "else:\n",
        "  print(len(townCitizens)) #first row - number of cities\n",
        "  print(ctz_towns) #second row - citizens cities\n",
        "\n",
        "  roads =set({})\n",
        "  for t in range(len(townContacts)):\n",
        "    notConected=len(townContacts[t])-len(townCitizens[t])\n",
        "    i=-1\n",
        "    while notConected>0:\n",
        "      i+=1\n",
        "      if(i==t): continue\n",
        "      if not townContacts[t].isdisjoint(townCitizens[i]):\n",
        "        roads.add(str(min(t+1,i+1))+' '+str(max(t+1,i+1)))\n",
        "        notConected-=len(townCitizens[i])\n",
        "  for r in roads:\n",
        "    print(r)"
      ]
    }
  ]
}